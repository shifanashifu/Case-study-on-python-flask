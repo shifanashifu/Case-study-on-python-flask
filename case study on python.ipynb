{
  "nbformat": 4,
  "nbformat_minor": 0,
  "metadata": {
    "colab": {
      "provenance": []
    },
    "kernelspec": {
      "name": "python3",
      "display_name": "Python 3"
    },
    "language_info": {
      "name": "python"
    }
  },
  "cells": [
    {
      "cell_type": "code",
      "execution_count": 2,
      "metadata": {
        "colab": {
          "base_uri": "https://localhost:8080/"
        },
        "id": "kNVpqR0KT9Er",
        "outputId": "58184c25-1f5e-431c-ccb1-70f1210d196f"
      },
      "outputs": [
        {
          "output_type": "stream",
          "name": "stdout",
          "text": [
            " * Serving Flask app '__main__'\n",
            " * Debug mode: on\n"
          ]
        },
        {
          "output_type": "stream",
          "name": "stderr",
          "text": [
            "INFO:werkzeug:\u001b[31m\u001b[1mWARNING: This is a development server. Do not use it in a production deployment. Use a production WSGI server instead.\u001b[0m\n",
            " * Running on http://127.0.0.1:5000\n",
            "INFO:werkzeug:\u001b[33mPress CTRL+C to quit\u001b[0m\n",
            "INFO:werkzeug: * Restarting with stat\n"
          ]
        }
      ],
      "source": [
        "from flask import Flask, render_template, request\n",
        "import numpy as np\n",
        "from sklearn.datasets import load_iris\n",
        "from sklearn.ensemble import RandomForestClassifier\n",
        "\n",
        "app = Flask(__name__)\n",
        "\n",
        "# Load the Iris dataset\n",
        "iris = load_iris()\n",
        "X = iris.data\n",
        "y = iris.target\n",
        "\n",
        "# Train a simple RandomForestClassifier\n",
        "clf = RandomForestClassifier()\n",
        "clf.fit(X, y)\n",
        "\n",
        "# Define the home route\n",
        "@app.route('/')\n",
        "def home():\n",
        "    return render_template('index.html')\n",
        "\n",
        "# Define the prediction route\n",
        "@app.route('/predict', methods=['POST'])\n",
        "def predict():\n",
        "    features = [float(request.form['sepal_length']),\n",
        "                float(request.form['sepal_width']),\n",
        "                float(request.form['petal_length']),\n",
        "                float(request.form['petal_width'])]\n",
        "\n",
        "    # Make a prediction using the trained model\n",
        "    prediction = clf.predict([features])[0]\n",
        "\n",
        "    # Map the numeric prediction to the actual species name\n",
        "    species_names = iris.target_names\n",
        "    predicted_species = species_names[prediction]\n",
        "\n",
        "    return render_template('index.html', prediction=f'The predicted species is: {predicted_species}')\n",
        "\n",
        "if __name__ == '__main__':\n",
        "    app.run(debug=True)\n"
      ]
    },
    {
      "cell_type": "code",
      "source": [],
      "metadata": {
        "id": "s3omB3nDT_kL"
      },
      "execution_count": null,
      "outputs": []
    }
  ]
}